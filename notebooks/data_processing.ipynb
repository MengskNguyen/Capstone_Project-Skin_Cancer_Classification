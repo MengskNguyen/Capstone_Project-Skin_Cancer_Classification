{
 "cells": [
  {
   "cell_type": "markdown",
   "id": "64a47b4f879bc8ed",
   "metadata": {},
   "source": [
    "# 1. Import necessary libraries"
   ]
  },
  {
   "cell_type": "code",
   "execution_count": 1,
   "id": "initial_id",
   "metadata": {
    "ExecuteTime": {
     "end_time": "2025-09-01T09:48:01.951193Z",
     "start_time": "2025-09-01T09:48:00.786695Z"
    }
   },
   "outputs": [
    {
     "name": "stderr",
     "output_type": "stream",
     "text": [
      "0it [00:00, ?it/s]\n",
      "C:\\Users\\Anh\\PycharmProjects\\Capstone_project-Breast_Cancer_Classification\\.venv\\Lib\\site-packages\\tqdm\\auto.py:21: TqdmWarning: IProgress not found. Please update jupyter and ipywidgets. See https://ipywidgets.readthedocs.io/en/stable/user_install.html\n",
      "  from .autonotebook import tqdm as notebook_tqdm\n"
     ]
    }
   ],
   "source": [
    "import numpy as np\n",
    "import matplotlib.pyplot as plt\n",
    "import pandas as pd\n",
    "import seaborn as sns\n",
    "from sklearn.svm import SVC\n",
    "from sklearn.preprocessing import StandardScaler, LabelEncoder\n",
    "from sklearn.impute import SimpleImputer\n",
    "import os\n",
    "import cv2\n",
    "import warnings\n",
    "from utils import save_to_csv, save_encoder, download_data\n",
    "warnings.filterwarnings('ignore')"
   ]
  },
  {
   "cell_type": "markdown",
   "id": "985e93007f4cd5c3",
   "metadata": {},
   "source": [
    "# 2. Data Exploration"
   ]
  },
  {
   "cell_type": "code",
   "execution_count": 2,
   "id": "42979ade75e74994",
   "metadata": {
    "ExecuteTime": {
     "end_time": "2025-09-01T10:12:21.188357Z",
     "start_time": "2025-09-01T10:12:21.167945Z"
    }
   },
   "outputs": [
    {
     "name": "stdout",
     "output_type": "stream",
     "text": [
      "Cache path: C:\\Users\\Anh\\.cache\\kagglehub\\datasets\\kmader\\skin-cancer-mnist-ham10000\\versions\\2\n",
      "Dataset already exists at: ../Datasets/skin-cancer-mnist-ham10000\n"
     ]
    },
    {
     "data": {
      "text/html": [
       "<div>\n",
       "<style scoped>\n",
       "    .dataframe tbody tr th:only-of-type {\n",
       "        vertical-align: middle;\n",
       "    }\n",
       "\n",
       "    .dataframe tbody tr th {\n",
       "        vertical-align: top;\n",
       "    }\n",
       "\n",
       "    .dataframe thead th {\n",
       "        text-align: right;\n",
       "    }\n",
       "</style>\n",
       "<table border=\"1\" class=\"dataframe\">\n",
       "  <thead>\n",
       "    <tr style=\"text-align: right;\">\n",
       "      <th></th>\n",
       "      <th>lesion_id</th>\n",
       "      <th>image_id</th>\n",
       "      <th>dx</th>\n",
       "      <th>dx_type</th>\n",
       "      <th>age</th>\n",
       "      <th>sex</th>\n",
       "      <th>localization</th>\n",
       "    </tr>\n",
       "  </thead>\n",
       "  <tbody>\n",
       "    <tr>\n",
       "      <th>0</th>\n",
       "      <td>HAM_0000118</td>\n",
       "      <td>ISIC_0027419</td>\n",
       "      <td>bkl</td>\n",
       "      <td>histo</td>\n",
       "      <td>80.0</td>\n",
       "      <td>male</td>\n",
       "      <td>scalp</td>\n",
       "    </tr>\n",
       "    <tr>\n",
       "      <th>1</th>\n",
       "      <td>HAM_0000118</td>\n",
       "      <td>ISIC_0025030</td>\n",
       "      <td>bkl</td>\n",
       "      <td>histo</td>\n",
       "      <td>80.0</td>\n",
       "      <td>male</td>\n",
       "      <td>scalp</td>\n",
       "    </tr>\n",
       "    <tr>\n",
       "      <th>2</th>\n",
       "      <td>HAM_0002730</td>\n",
       "      <td>ISIC_0026769</td>\n",
       "      <td>bkl</td>\n",
       "      <td>histo</td>\n",
       "      <td>80.0</td>\n",
       "      <td>male</td>\n",
       "      <td>scalp</td>\n",
       "    </tr>\n",
       "    <tr>\n",
       "      <th>3</th>\n",
       "      <td>HAM_0002730</td>\n",
       "      <td>ISIC_0025661</td>\n",
       "      <td>bkl</td>\n",
       "      <td>histo</td>\n",
       "      <td>80.0</td>\n",
       "      <td>male</td>\n",
       "      <td>scalp</td>\n",
       "    </tr>\n",
       "    <tr>\n",
       "      <th>4</th>\n",
       "      <td>HAM_0001466</td>\n",
       "      <td>ISIC_0031633</td>\n",
       "      <td>bkl</td>\n",
       "      <td>histo</td>\n",
       "      <td>75.0</td>\n",
       "      <td>male</td>\n",
       "      <td>ear</td>\n",
       "    </tr>\n",
       "  </tbody>\n",
       "</table>\n",
       "</div>"
      ],
      "text/plain": [
       "     lesion_id      image_id   dx dx_type   age   sex localization\n",
       "0  HAM_0000118  ISIC_0027419  bkl   histo  80.0  male        scalp\n",
       "1  HAM_0000118  ISIC_0025030  bkl   histo  80.0  male        scalp\n",
       "2  HAM_0002730  ISIC_0026769  bkl   histo  80.0  male        scalp\n",
       "3  HAM_0002730  ISIC_0025661  bkl   histo  80.0  male        scalp\n",
       "4  HAM_0001466  ISIC_0031633  bkl   histo  75.0  male          ear"
      ]
     },
     "execution_count": 2,
     "metadata": {},
     "output_type": "execute_result"
    }
   ],
   "source": [
    "download_data() #Download data and save in specific path for future use\n",
    "df = pd.read_csv('../Datasets/skin-cancer-mnist-ham10000/HAM10000_metadata.csv')\n",
    "df.head()"
   ]
  },
  {
   "cell_type": "markdown",
   "id": "6dcc4b61-d74a-4a40-b4dc-e3924cdcb96f",
   "metadata": {},
   "source": [
    "Create a backup copy of the main dataframe."
   ]
  },
  {
   "cell_type": "code",
   "execution_count": 3,
   "id": "4bb3bea29c48f3c9",
   "metadata": {
    "ExecuteTime": {
     "end_time": "2025-09-01T10:12:21.649959Z",
     "start_time": "2025-09-01T10:12:21.645424Z"
    }
   },
   "outputs": [],
   "source": [
    "df_backup = df.copy() "
   ]
  },
  {
   "cell_type": "code",
   "execution_count": 4,
   "id": "4bacbb0faaade78c",
   "metadata": {},
   "outputs": [
    {
     "name": "stdout",
     "output_type": "stream",
     "text": [
      "<class 'pandas.core.frame.DataFrame'>\n",
      "RangeIndex: 10015 entries, 0 to 10014\n",
      "Data columns (total 7 columns):\n",
      " #   Column        Non-Null Count  Dtype  \n",
      "---  ------        --------------  -----  \n",
      " 0   lesion_id     10015 non-null  object \n",
      " 1   image_id      10015 non-null  object \n",
      " 2   dx            10015 non-null  object \n",
      " 3   dx_type       10015 non-null  object \n",
      " 4   age           9958 non-null   float64\n",
      " 5   sex           10015 non-null  object \n",
      " 6   localization  10015 non-null  object \n",
      "dtypes: float64(1), object(6)\n",
      "memory usage: 547.8+ KB\n"
     ]
    }
   ],
   "source": [
    "df.info()"
   ]
  },
  {
   "cell_type": "markdown",
   "id": "e83eaac3-1a0a-48b5-8f2c-7759383d6849",
   "metadata": {},
   "source": [
    "Find NaN"
   ]
  },
  {
   "cell_type": "code",
   "execution_count": 5,
   "id": "93886d69-070c-4b86-8d8c-0f6db6996f30",
   "metadata": {},
   "outputs": [
    {
     "data": {
      "text/plain": [
       "lesion_id        0\n",
       "image_id         0\n",
       "dx               0\n",
       "dx_type          0\n",
       "age             57\n",
       "sex              0\n",
       "localization     0\n",
       "dtype: int64"
      ]
     },
     "execution_count": 5,
     "metadata": {},
     "output_type": "execute_result"
    }
   ],
   "source": [
    "df.isna().sum()"
   ]
  },
  {
   "cell_type": "markdown",
   "id": "6c277dc2-bdce-4f50-a982-5f181d8aa5d0",
   "metadata": {},
   "source": [
    "we found out that column 'age' has 57 NaN values"
   ]
  },
  {
   "cell_type": "code",
   "execution_count": 6,
   "id": "7098aa95-3489-42d9-b0db-36486fe2c310",
   "metadata": {},
   "outputs": [
    {
     "name": "stdout",
     "output_type": "stream",
     "text": [
      "Unique values of col 'dx': ['bkl' 'nv' 'df' 'mel' 'vasc' 'bcc' 'akiec']\n",
      "Unique values of col 'dx_type': ['histo' 'consensus' 'confocal' 'follow_up']\n",
      "Unique values of col 'sex': ['male' 'female' 'unknown']\n",
      "Unique values of col 'localization': ['scalp' 'ear' 'face' 'back' 'trunk' 'chest' 'upper extremity' 'abdomen'\n",
      " 'unknown' 'lower extremity' 'genital' 'neck' 'hand' 'foot' 'acral']\n"
     ]
    }
   ],
   "source": [
    "col_to_explore = [\"dx\", \"dx_type\", \"sex\", \"localization\"]\n",
    "\n",
    "for c in col_to_explore:\n",
    "  print(f\"Unique values of col '{c}': {df[c].unique()}\")"
   ]
  },
  {
   "cell_type": "markdown",
   "id": "7adf6909-078d-4d04-8bff-cdec84778765",
   "metadata": {},
   "source": [
    "we found out that column 'sex' and 'localization' has 'unknown' value"
   ]
  },
  {
   "cell_type": "code",
   "execution_count": 7,
   "id": "5a36252b-2fc7-4abe-ba9c-66f7c6bd8af8",
   "metadata": {},
   "outputs": [
    {
     "data": {
      "text/plain": [
       "sex\n",
       "male       5406\n",
       "female     4552\n",
       "unknown      57\n",
       "Name: count, dtype: int64"
      ]
     },
     "execution_count": 7,
     "metadata": {},
     "output_type": "execute_result"
    }
   ],
   "source": [
    "df['sex'].value_counts()"
   ]
  },
  {
   "cell_type": "code",
   "execution_count": 8,
   "id": "dcd4ceec-4258-412d-8fce-3deee02507f3",
   "metadata": {},
   "outputs": [
    {
     "data": {
      "text/plain": [
       "localization\n",
       "back               2192\n",
       "lower extremity    2077\n",
       "trunk              1404\n",
       "upper extremity    1118\n",
       "abdomen            1022\n",
       "face                745\n",
       "chest               407\n",
       "foot                319\n",
       "unknown             234\n",
       "neck                168\n",
       "scalp               128\n",
       "hand                 90\n",
       "ear                  56\n",
       "genital              48\n",
       "acral                 7\n",
       "Name: count, dtype: int64"
      ]
     },
     "execution_count": 8,
     "metadata": {},
     "output_type": "execute_result"
    }
   ],
   "source": [
    "df['localization'].value_counts()"
   ]
  },
  {
   "cell_type": "code",
   "execution_count": 9,
   "id": "e5d64467-9080-4741-a202-7735955240d1",
   "metadata": {},
   "outputs": [
    {
     "data": {
      "text/plain": [
       "array(['scalp', 'ear', 'face', 'back', 'trunk', 'chest',\n",
       "       'upper extremity', 'abdomen', 'unknown', 'lower extremity',\n",
       "       'genital', 'neck', 'hand', 'foot', 'acral'], dtype=object)"
      ]
     },
     "execution_count": 9,
     "metadata": {},
     "output_type": "execute_result"
    }
   ],
   "source": [
    "df['localization'].unique()"
   ]
  },
  {
   "cell_type": "markdown",
   "id": "22e58906-d45e-40f3-b793-f4d2204a4cfb",
   "metadata": {},
   "source": [
    "We will replace 'unknown' values with NaN and fill in later."
   ]
  },
  {
   "cell_type": "code",
   "execution_count": 10,
   "id": "38e993c5-8bf4-467b-a694-6ffb57cbef29",
   "metadata": {},
   "outputs": [],
   "source": [
    "df['sex'].replace('unknown', np.nan, inplace = True)\n",
    "df['localization'].replace('unknown', np.nan, inplace = True)"
   ]
  },
  {
   "cell_type": "code",
   "execution_count": 11,
   "id": "61f21873-e8a3-4ae4-983a-9124d756f02f",
   "metadata": {},
   "outputs": [
    {
     "data": {
      "text/plain": [
       "sex              57\n",
       "localization    234\n",
       "dtype: int64"
      ]
     },
     "execution_count": 11,
     "metadata": {},
     "output_type": "execute_result"
    }
   ],
   "source": [
    "df[['sex', 'localization']].isna().sum()"
   ]
  },
  {
   "cell_type": "code",
   "execution_count": 12,
   "id": "38df9eb2-865b-4b4d-8600-c7149498cb38",
   "metadata": {},
   "outputs": [
    {
     "data": {
      "text/plain": [
       "Text(0.5, 1.0, 'Distribution of localization')"
      ]
     },
     "execution_count": 12,
     "metadata": {},
     "output_type": "execute_result"
    },
    {
     "data": {
      "image/png": "[encoded data removed]",
      "text/plain": [
       "<Figure size 1000x1000 with 4 Axes>"
      ]
     },
     "metadata": {},
     "output_type": "display_data"
    }
   ],
   "source": [
    "fig, axes = plt.subplots(2, 2, figsize=(10, 10))\n",
    "\n",
    "df['dx'].hist(bins=20, ax=axes[0,0], color='skyblue')\n",
    "axes[0,0].grid(False)\n",
    "axes[0,0].set_title(\"Distribution of diagnosis\")\n",
    "\n",
    "df['dx_type'].hist(bins=20, ax=axes[0,1], color='orange')\n",
    "axes[0,1].grid(False)\n",
    "axes[0,1].set_title(\"Distribution of diagnosis Type\")\n",
    "\n",
    "df['sex'].hist(ax=axes[1,0], color='lightgreen')\n",
    "axes[1,0].grid(False)\n",
    "axes[1,0].set_title(\"Distribution of sex\") \n",
    "\n",
    "df['localization'].hist(bins=50, ax=axes[1,1], color='red')\n",
    "axes[1,1].grid(False)\n",
    "axes[1,1].set_xticklabels(df['localization'].unique(), rotation=90)\n",
    "axes[1,1].set_title(\"Distribution of localization\")\n",
    "\n",
    "# There are still NaN values that were not plotted, but since they are insignificant, I will ignore them"
   ]
  },
  {
   "cell_type": "markdown",
   "id": "c94709f2-bf93-4011-b296-9a811ef22faf",
   "metadata": {},
   "source": [
    "# 3. Data Preprocessing"
   ]
  },
  {
   "cell_type": "code",
   "execution_count": 13,
   "id": "c51eb39d-bd9d-4ce1-82ce-00e3d0a401ca",
   "metadata": {},
   "outputs": [
    {
     "data": {
      "text/plain": [
       "lesion_id         0\n",
       "image_id          0\n",
       "dx                0\n",
       "dx_type           0\n",
       "age              57\n",
       "sex              57\n",
       "localization    234\n",
       "dtype: int64"
      ]
     },
     "execution_count": 13,
     "metadata": {},
     "output_type": "execute_result"
    }
   ],
   "source": [
    "df.isna().sum()"
   ]
  },
  {
   "cell_type": "raw",
   "id": "691a6f3b-a9f2-485f-8bcd-7c27ac494654",
   "metadata": {},
   "source": [
    "Fill NaN values of column 'age', 'sex' and 'localization'"
   ]
  },
  {
   "cell_type": "code",
   "execution_count": 14,
   "id": "d532a666-fae4-4c39-aa44-df892ec77df4",
   "metadata": {},
   "outputs": [],
   "source": [
    "age_imputer = SimpleImputer(strategy='mean')\n",
    "df['age'] = age_imputer.fit_transform(df[['age']])[:, 0]"
   ]
  },
  {
   "cell_type": "code",
   "execution_count": 15,
   "id": "ceda876e-d9a3-4fa0-be0f-79c4bf9a699e",
   "metadata": {},
   "outputs": [],
   "source": [
    "sex_imputer = SimpleImputer(strategy='most_frequent')\n",
    "df['sex'] = sex_imputer.fit_transform(df[['sex']])[:, 0]"
   ]
  },
  {
   "cell_type": "code",
   "execution_count": 16,
   "id": "4f8c1780-f6af-44d2-8a76-c285131d5f5c",
   "metadata": {},
   "outputs": [],
   "source": [
    "localization_imputer = SimpleImputer(strategy='most_frequent')\n",
    "df['localization'] = localization_imputer.fit_transform(df[['localization']])[:, 0]"
   ]
  },
  {
   "cell_type": "markdown",
   "id": "542c4383-c067-4e89-bcfc-3b7a07724a85",
   "metadata": {},
   "source": [
    "Create a new column ‘diagnose’ as a substitute for ‘dx’."
   ]
  },
  {
   "cell_type": "code",
   "execution_count": 17,
   "id": "56171eea-d4ad-4ba5-9026-3aed7226f9cf",
   "metadata": {},
   "outputs": [],
   "source": [
    "dx_dict = {\n",
    "    \"nv\": \"Melanocytic nevi\",\n",
    "    \"mel\": \"Melanoma\",\n",
    "    \"bkl\": \"Benign keratosis-like lesions\",\n",
    "    \"bcc\": \"Basal cell carcinoma\",\n",
    "    \"akiec\": \"Actinic keratoses\",\n",
    "    \"vasc\": \"Vascular lesions\",\n",
    "    \"df\": \"Dermatofibroma\"\n",
    "}\n",
    "\n",
    "df[\"diagnose\"] = df[\"dx\"].map(dx_dict)"
   ]
  },
  {
   "cell_type": "markdown",
   "id": "b69cf786-cb34-425f-8211-12728bf30444",
   "metadata": {},
   "source": [
    "Since the ‘dx’ column is no longer needed, I will drop it along with the columns ‘lesion_id’. ‘image_id’ will be preprocessing later in another notebook, but I will keep it to merge 2 csv later."
   ]
  },
  {
   "cell_type": "code",
   "execution_count": 18,
   "id": "cd557174-70fa-46cd-a8f1-21870a3f9ac2",
   "metadata": {},
   "outputs": [],
   "source": [
    "df.drop([\"dx\", \"lesion_id\"], axis=1, inplace=True)"
   ]
  },
  {
   "cell_type": "markdown",
   "id": "d1ce47df-679b-49b4-8725-5124b220f459",
   "metadata": {},
   "source": [
    "Create 'label' column based on 'diagnose'. 1 is cancer, 0 is not cancer"
   ]
  },
  {
   "cell_type": "code",
   "execution_count": 19,
   "id": "cdd2eba0-0084-4196-a94a-913bab301095",
   "metadata": {},
   "outputs": [],
   "source": [
    "label = [1 if each == 'Melanoma' or each == 'Basal cell carcinoma' \n",
    "         or each == 'Actinic keratoses' or each == 'Vascular lesions' \n",
    "         else 0 for each in df.diagnose]"
   ]
  },
  {
   "cell_type": "code",
   "execution_count": 20,
   "id": "3fda6193-0819-4ec1-8c09-013a6a84fe35",
   "metadata": {},
   "outputs": [],
   "source": [
    "df['label'] = label"
   ]
  },
  {
   "cell_type": "code",
   "execution_count": 21,
   "id": "8f64b55b-6863-4c0a-8f49-0da974ff8225",
   "metadata": {},
   "outputs": [
    {
     "data": {
      "text/plain": [
       "label\n",
       "0    7919\n",
       "1    2096\n",
       "Name: count, dtype: int64"
      ]
     },
     "execution_count": 21,
     "metadata": {},
     "output_type": "execute_result"
    }
   ],
   "source": [
    "df['label'].value_counts()"
   ]
  },
  {
   "cell_type": "code",
   "execution_count": 22,
   "id": "4676e06f-9df9-48bd-babf-e7068fbdb732",
   "metadata": {},
   "outputs": [
    {
     "data": {
      "text/plain": [
       "diagnose\n",
       "Melanocytic nevi                 6705\n",
       "Melanoma                         1113\n",
       "Benign keratosis-like lesions    1099\n",
       "Basal cell carcinoma              514\n",
       "Actinic keratoses                 327\n",
       "Vascular lesions                  142\n",
       "Dermatofibroma                    115\n",
       "Name: count, dtype: int64"
      ]
     },
     "execution_count": 22,
     "metadata": {},
     "output_type": "execute_result"
    }
   ],
   "source": [
    "df['diagnose'].value_counts()"
   ]
  },
  {
   "cell_type": "markdown",
   "id": "3088c6bf-f815-4573-a2c8-4bd88734b777",
   "metadata": {},
   "source": [
    "Encoding data with Label Encoder"
   ]
  },
  {
   "cell_type": "code",
   "execution_count": 23,
   "id": "58f2bfad-0cb1-44e8-8c50-34053a5fb4ca",
   "metadata": {},
   "outputs": [],
   "source": [
    "dx_type_label_encoder = LabelEncoder()\n",
    "sex_cat_label_encoder = LabelEncoder()\n",
    "localization_cat_encoder = LabelEncoder()\n",
    "diagnose_cat_label_encoder = LabelEncoder()"
   ]
  },
  {
   "cell_type": "code",
   "execution_count": 24,
   "id": "9751e138-716a-4799-bc18-cbd3ad430ef9",
   "metadata": {},
   "outputs": [],
   "source": [
    "dx_type = dx_type_label_encoder.fit_transform(df[\"dx_type\"])\n",
    "dx_type = pd.DataFrame(dx_type, columns=[\"dx_type\"])\n",
    "\n",
    "sex_cat = sex_cat_label_encoder.fit_transform(df[\"sex\"])\n",
    "sex_cat = pd.DataFrame(sex_cat, columns=[\"sex\"])\n",
    "\n",
    "localization_cat = localization_cat_encoder.fit_transform(df[\"localization\"])\n",
    "localization_cat = pd.DataFrame(localization_cat, columns=[\"localization\"])\n",
    "\n",
    "diagnose_cat = diagnose_cat_label_encoder.fit_transform(df[\"diagnose\"])\n",
    "diagnose_cat = pd.DataFrame(diagnose_cat, columns=[\"diagnose\"])"
   ]
  },
  {
   "cell_type": "code",
   "execution_count": 25,
   "id": "58aa7f60-c972-4c2d-a05d-bdb96e66a305",
   "metadata": {},
   "outputs": [
    {
     "name": "stdout",
     "output_type": "stream",
     "text": [
      "Model is existed at ../Encoders/sex_cat_label_encoder.joblib\n",
      "Model is existed at ../Encoders/localization_cat_encoder.joblib\n",
      "Model is existed at ../Encoders/diagnose_cat_label_encoder.joblib\n"
     ]
    }
   ],
   "source": [
    "encoders = [sex_cat_label_encoder, localization_cat_encoder, diagnose_cat_label_encoder]\n",
    "names = ['sex_cat_label_encoder', 'localization_cat_encoder', 'diagnose_cat_label_encoder']\n",
    "\n",
    "for idx, e in enumerate(encoders):\n",
    "    save_encoder(e, f\"../Encoders/{names[idx]}.joblib\")"
   ]
  },
  {
   "cell_type": "code",
   "execution_count": 26,
   "id": "9f1d6a0f-ae0b-4ae4-ab74-070d927e4655",
   "metadata": {},
   "outputs": [],
   "source": [
    "df['sex'] = sex_cat\n",
    "df['localization'] = localization_cat\n",
    "df['diagnose'] = diagnose_cat\n",
    "df['dx_type'] = dx_type"
   ]
  },
  {
   "cell_type": "markdown",
   "id": "1d6db4d3-c46a-48a8-afb9-cd404250abb9",
   "metadata": {},
   "source": [
    "Save the processed DataFrame"
   ]
  },
  {
   "cell_type": "code",
   "execution_count": 27,
   "id": "4600adc7-56b4-4db6-83df-b1171a126d78",
   "metadata": {},
   "outputs": [
    {
     "name": "stdout",
     "output_type": "stream",
     "text": [
      "File 'csv\\processed_data.csv' is existed\n"
     ]
    }
   ],
   "source": [
    "save_to_csv(df, \"processed_data.csv\")"
   ]
  }
 ],
 "metadata": {
  "kernelspec": {
   "display_name": "Python 3 (ipykernel)",
   "language": "python",
   "name": "python3"
  },
  "language_info": {
   "codemirror_mode": {
    "name": "ipython",
    "version": 3
   },
   "file_extension": ".py",
   "mimetype": "text/x-python",
   "name": "python",
   "nbconvert_exporter": "python",
   "pygments_lexer": "ipython3",
   "version": "3.13.5"
  }
 },
 "nbformat": 4,
 "nbformat_minor": 5
}
